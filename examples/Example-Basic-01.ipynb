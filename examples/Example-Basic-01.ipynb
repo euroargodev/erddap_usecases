{
 "cells": [
  {
   "cell_type": "markdown",
   "metadata": {},
   "source": [
    "# Basic requests of Argo data from Ifremer erddap\n",
    "\n",
    "Here, erddap requests are managed through the [erddapy library](https://github.com/ioos/erddapy).\n",
    "\n",
    "No use of the argopy end-user API.\n",
    "\n",
    "***\n",
    "Script prepared by [Guillaume Maze](http://github.com/gmaze) (Mar. 2020)"
   ]
  },
  {
   "cell_type": "code",
   "execution_count": 1,
   "metadata": {},
   "outputs": [],
   "source": [
    "# Import the library to easily manage erddap requests:\n",
    "from erddapy import ERDDAP"
   ]
  },
  {
   "cell_type": "code",
   "execution_count": 2,
   "metadata": {},
   "outputs": [
    {
     "data": {
      "text/plain": [
       "<erddapy.erddapy.ERDDAP at 0x1167a94e0>"
      ]
     },
     "execution_count": 2,
     "metadata": {},
     "output_type": "execute_result"
    }
   ],
   "source": [
    "# Define standard informations:\n",
    "erddap = ERDDAP(\n",
    "            server='http://www.ifremer.fr/erddap',\n",
    "            protocol='tabledap'\n",
    "        )\n",
    "erddap.response = 'ncCFHeader'\n",
    "# erddap.dataset_id = 'ArgoFloats'\n",
    "erddap.dataset_id = 'ArgoFloats-bio'\n",
    "erddap"
   ]
  },
  {
   "cell_type": "code",
   "execution_count": 3,
   "metadata": {},
   "outputs": [],
   "source": [
    "# Define constraints on the request:\n",
    "erddap.constraints = {\n",
    "    'time>=': '2012-07-01',\n",
    "    'time<=': '2013-12-31',\n",
    "    'latitude>=': 30.0,\n",
    "    'latitude<=': 40.0,\n",
    "    'longitude>=': -75.0,\n",
    "    'longitude<=': -65.0,\n",
    "}"
   ]
  },
  {
   "cell_type": "code",
   "execution_count": 4,
   "metadata": {},
   "outputs": [
    {
     "name": "stdout",
     "output_type": "stream",
     "text": [
      "['data_mode', 'latitude', 'longitude', 'position_qc', 'time', 'time_qc', 'direction', 'platform_number', 'cycle_number', 'pres', 'temp', 'psal', 'doxy', 'pres_qc', 'temp_qc', 'psal_qc', 'doxy_qc', 'pres_adjusted', 'temp_adjusted', 'psal_adjusted', 'doxy_adjusted', 'pres_adjusted_qc', 'temp_adjusted_qc', 'psal_adjusted_qc', 'doxy_adjusted_qc', 'pres_adjusted_error', 'temp_adjusted_error', 'psal_adjusted_error', 'doxy_adjusted_error']\n"
     ]
    }
   ],
   "source": [
    "# Define the list of variables to retrieve:\n",
    "vlist = list()\n",
    "plist = ['data_mode', 'latitude', 'longitude',\n",
    "         'position_qc', 'time', 'time_qc',\n",
    "         'direction', 'platform_number', 'cycle_number']\n",
    "[vlist.append(p) for p in plist]\n",
    "# plist = ['pres', 'temp', 'psal']\n",
    "plist = ['pres', 'temp', 'psal', 'doxy']\n",
    "[vlist.append(p) for p in plist]\n",
    "[vlist.append(p + '_qc') for p in plist]\n",
    "[vlist.append(p + '_adjusted') for p in plist]\n",
    "[vlist.append(p + '_adjusted_qc') for p in plist]\n",
    "[vlist.append(p + '_adjusted_error') for p in plist]\n",
    "erddap.variables = vlist\n",
    "print(erddap.variables)"
   ]
  },
  {
   "cell_type": "code",
   "execution_count": 5,
   "metadata": {},
   "outputs": [
    {
     "name": "stdout",
     "output_type": "stream",
     "text": [
      "http://www.ifremer.fr/erddap/tabledap/ArgoFloats-bio.ncCFHeader?data_mode,latitude,longitude,position_qc,time,time_qc,direction,platform_number,cycle_number,pres,temp,psal,doxy,pres_qc,temp_qc,psal_qc,doxy_qc,pres_adjusted,temp_adjusted,psal_adjusted,doxy_adjusted,pres_adjusted_qc,temp_adjusted_qc,psal_adjusted_qc,doxy_adjusted_qc,pres_adjusted_error,temp_adjusted_error,psal_adjusted_error,doxy_adjusted_error&time>=1341100800.0&time<=1388448000.0&latitude>=30.0&latitude<=40.0&longitude>=-75.0&longitude<=-65.0\n"
     ]
    }
   ],
   "source": [
    "# Get the url that will be accessed:\n",
    "url = erddap.get_download_url()\n",
    "print(url)"
   ]
  },
  {
   "cell_type": "code",
   "execution_count": 6,
   "metadata": {},
   "outputs": [
    {
     "data": {
      "text/html": [
       "<pre>&lt;xarray.Dataset&gt;\n",
       "Dimensions:              (row: 124526)\n",
       "Dimensions without coordinates: row\n",
       "Data variables:\n",
       "    data_mode            (row) object ...\n",
       "    latitude             (row) float64 ...\n",
       "    longitude            (row) float64 ...\n",
       "    position_qc          (row) object ...\n",
       "    time                 (row) datetime64[ns] ...\n",
       "    time_qc              (row) object ...\n",
       "    direction            (row) object ...\n",
       "    platform_number      (row) object ...\n",
       "    cycle_number         (row) float64 ...\n",
       "    pres                 (row) float32 ...\n",
       "    temp                 (row) float32 ...\n",
       "    psal                 (row) float32 ...\n",
       "    doxy                 (row) float32 ...\n",
       "    pres_qc              (row) object ...\n",
       "    temp_qc              (row) object ...\n",
       "    psal_qc              (row) object ...\n",
       "    doxy_qc              (row) object ...\n",
       "    pres_adjusted        (row) float32 ...\n",
       "    temp_adjusted        (row) float32 ...\n",
       "    psal_adjusted        (row) float32 ...\n",
       "    doxy_adjusted        (row) float32 ...\n",
       "    pres_adjusted_qc     (row) object ...\n",
       "    temp_adjusted_qc     (row) object ...\n",
       "    psal_adjusted_qc     (row) object ...\n",
       "    doxy_adjusted_qc     (row) object ...\n",
       "    pres_adjusted_error  (row) float32 ...\n",
       "    temp_adjusted_error  (row) float32 ...\n",
       "    psal_adjusted_error  (row) float32 ...\n",
       "    doxy_adjusted_error  (row) float32 ...\n",
       "Attributes:\n",
       "    cdm_altitude_proxy:        pres\n",
       "    cdm_data_type:             TrajectoryProfile\n",
       "    cdm_profile_variables:     cycle_number, data_type, format_version, handb...\n",
       "    cdm_trajectory_variables:  platform_number, project_name, pi_name, platfo...\n",
       "    comment:                   free text\n",
       "    Conventions:               Argo-3.1, CF-1.6, COARDS, ACDD-1.3\n",
       "    creator_email:             support@argo.net\n",
       "    creator_name:              Argo\n",
       "    creator_url:               http://www.argo.net/\n",
       "    Easternmost_Easting:       -65.03\n",
       "    featureType:               TrajectoryProfile\n",
       "    geospatial_lat_max:        39.875\n",
       "    geospatial_lat_min:        30.003\n",
       "    geospatial_lat_units:      degrees_north\n",
       "    geospatial_lon_max:        -65.03\n",
       "    geospatial_lon_min:        -74.991\n",
       "    geospatial_lon_units:      degrees_east\n",
       "    history:                   2020-03-11T13:19:26Z (local files)\\n2020-03-11...\n",
       "    id:                        ArgoFloats-bio\n",
       "    infoUrl:                   http://doi.org/10.17882/42182\n",
       "    institution:               Argo\n",
       "    keywords:                  adjusted, argo, array, assembly, best, centre,...\n",
       "    keywords_vocabulary:       GCMD Science Keywords\n",
       "    license:                   The data may be used and redistributed for fre...\n",
       "    Northernmost_Northing:     39.875\n",
       "    references:                http://www.argodatamgt.org/Documentation\n",
       "    source:                    Argo float\n",
       "    sourceUrl:                 (local files)\n",
       "    Southernmost_Northing:     30.003\n",
       "    standard_name_vocabulary:  CF Standard Name Table v29\n",
       "    summary:                   Argo float vertical profiles from Coriolis Glo...\n",
       "    time_coverage_end:         2013-12-29T02:16:52Z\n",
       "    time_coverage_start:       2012-07-05T14:56:14Z\n",
       "    title:                     Argo Float Bio Vertical Profiles\n",
       "    user_manual_version:       3.2\n",
       "    Westernmost_Easting:       -74.991</pre>"
      ],
      "text/plain": [
       "<xarray.Dataset>\n",
       "Dimensions:              (row: 124526)\n",
       "Dimensions without coordinates: row\n",
       "Data variables:\n",
       "    data_mode            (row) object ...\n",
       "    latitude             (row) float64 ...\n",
       "    longitude            (row) float64 ...\n",
       "    position_qc          (row) object ...\n",
       "    time                 (row) datetime64[ns] ...\n",
       "    time_qc              (row) object ...\n",
       "    direction            (row) object ...\n",
       "    platform_number      (row) object ...\n",
       "    cycle_number         (row) float64 ...\n",
       "    pres                 (row) float32 ...\n",
       "    temp                 (row) float32 ...\n",
       "    psal                 (row) float32 ...\n",
       "    doxy                 (row) float32 ...\n",
       "    pres_qc              (row) object ...\n",
       "    temp_qc              (row) object ...\n",
       "    psal_qc              (row) object ...\n",
       "    doxy_qc              (row) object ...\n",
       "    pres_adjusted        (row) float32 ...\n",
       "    temp_adjusted        (row) float32 ...\n",
       "    psal_adjusted        (row) float32 ...\n",
       "    doxy_adjusted        (row) float32 ...\n",
       "    pres_adjusted_qc     (row) object ...\n",
       "    temp_adjusted_qc     (row) object ...\n",
       "    psal_adjusted_qc     (row) object ...\n",
       "    doxy_adjusted_qc     (row) object ...\n",
       "    pres_adjusted_error  (row) float32 ...\n",
       "    temp_adjusted_error  (row) float32 ...\n",
       "    psal_adjusted_error  (row) float32 ...\n",
       "    doxy_adjusted_error  (row) float32 ...\n",
       "Attributes:\n",
       "    cdm_altitude_proxy:        pres\n",
       "    cdm_data_type:             TrajectoryProfile\n",
       "    cdm_profile_variables:     cycle_number, data_type, format_version, handb...\n",
       "    cdm_trajectory_variables:  platform_number, project_name, pi_name, platfo...\n",
       "    comment:                   free text\n",
       "    Conventions:               Argo-3.1, CF-1.6, COARDS, ACDD-1.3\n",
       "    creator_email:             support@argo.net\n",
       "    creator_name:              Argo\n",
       "    creator_url:               http://www.argo.net/\n",
       "    Easternmost_Easting:       -65.03\n",
       "    featureType:               TrajectoryProfile\n",
       "    geospatial_lat_max:        39.875\n",
       "    geospatial_lat_min:        30.003\n",
       "    geospatial_lat_units:      degrees_north\n",
       "    geospatial_lon_max:        -65.03\n",
       "    geospatial_lon_min:        -74.991\n",
       "    geospatial_lon_units:      degrees_east\n",
       "    history:                   2020-03-11T13:19:26Z (local files)\\n2020-03-11...\n",
       "    id:                        ArgoFloats-bio\n",
       "    infoUrl:                   http://doi.org/10.17882/42182\n",
       "    institution:               Argo\n",
       "    keywords:                  adjusted, argo, array, assembly, best, centre,...\n",
       "    keywords_vocabulary:       GCMD Science Keywords\n",
       "    license:                   The data may be used and redistributed for fre...\n",
       "    Northernmost_Northing:     39.875\n",
       "    references:                http://www.argodatamgt.org/Documentation\n",
       "    source:                    Argo float\n",
       "    sourceUrl:                 (local files)\n",
       "    Southernmost_Northing:     30.003\n",
       "    standard_name_vocabulary:  CF Standard Name Table v29\n",
       "    summary:                   Argo float vertical profiles from Coriolis Glo...\n",
       "    time_coverage_end:         2013-12-29T02:16:52Z\n",
       "    time_coverage_start:       2012-07-05T14:56:14Z\n",
       "    title:                     Argo Float Bio Vertical Profiles\n",
       "    user_manual_version:       3.2\n",
       "    Westernmost_Easting:       -74.991"
      ]
     },
     "execution_count": 6,
     "metadata": {},
     "output_type": "execute_result"
    }
   ],
   "source": [
    "# Retrieve data:\n",
    "ds = erddap.to_xarray()\n",
    "ds"
   ]
  },
  {
   "cell_type": "code",
   "execution_count": 7,
   "metadata": {},
   "outputs": [
    {
     "name": "stdout",
     "output_type": "stream",
     "text": [
      "<xarray.DataArray 'time' ()>\n",
      "array('2012-07-05T14:56:14.000000000', dtype='datetime64[ns]')\n",
      "<xarray.DataArray 'time' ()>\n",
      "array('2013-12-29T02:16:52.000000000', dtype='datetime64[ns]')\n"
     ]
    }
   ],
   "source": [
    "print(ds['time'].min())\n",
    "print(ds['time'].max())"
   ]
  },
  {
   "cell_type": "markdown",
   "metadata": {},
   "source": [
    "***\n",
    "This work is part and was supported by the following projects:\n",
    "<div>\n",
    "<img src=\"https://avatars1.githubusercontent.com/u/58258213?s=460&v=4\" width=\"70\"/>\n",
    "<img src=\"http://www.argo-france.fr/wp-content/uploads/2019/10/Argo-logo_banner-color.png\" width=\"200\"/>\n",
    "<img src=\"https://www.umr-lops.fr/var/storage/images/_aliases/logo_main/medias-ifremer/medias-lops/logos/logo-lops-2/1459683-4-fre-FR/Logo-LOPS-2.png\" width=\"70\"/>\n",
    "</div>"
   ]
  }
 ],
 "metadata": {
  "kernelspec": {
   "display_name": "Python 3",
   "language": "python",
   "name": "python3"
  },
  "language_info": {
   "codemirror_mode": {
    "name": "ipython",
    "version": 3
   },
   "file_extension": ".py",
   "mimetype": "text/x-python",
   "name": "python",
   "nbconvert_exporter": "python",
   "pygments_lexer": "ipython3",
   "version": "3.6.7"
  },
  "widgets": {
   "application/vnd.jupyter.widget-state+json": {
    "state": {},
    "version_major": 2,
    "version_minor": 0
   }
  }
 },
 "nbformat": 4,
 "nbformat_minor": 4
}
