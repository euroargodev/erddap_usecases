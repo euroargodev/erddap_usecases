{
 "cells": [
  {
   "cell_type": "markdown",
   "metadata": {},
   "source": [
    "# Argo ERDDAP Basic use cases\n",
    "\n",
    "In this notebook, we'll showcase some examples of direct request to the Argo Ifremer erddap API.\n",
    "\n",
    "The Argo access point is:\n",
    "http://www.ifremer.fr/erddap/tabledap/ArgoFloats.html\n",
    "\n",
    "***\n",
    "Script prepared by [Guillaume Maze](http://github.com/gmaze) (Mar. 2020)"
   ]
  },
  {
   "cell_type": "markdown",
   "metadata": {},
   "source": [
    "# For one or more floats\n",
    "\n",
    "Positions of one or more floats (by WMO):\n",
    "\n",
    "http://www.ifremer.fr/erddap/tabledap/ArgoFloats.graph?longitude%2Clatitude%2Ccycle_number&platform_number=~%22%5E(6902746%7C6902757%7C6902766%7C6902771%7C6902772)%22&longitude%3E=-95&longitude%3C=-45&latitude%3E=10&latitude%3C=45&.draw=markers&.marker=7%7C3&.color=0x000000&.colorBar=%7C%7C%7C0%7C%7C10&.bgColor=0xffccccff"
   ]
  },
  {
   "cell_type": "markdown",
   "metadata": {},
   "source": [
    "<div>\n",
    "<img src=\"http://www.ifremer.fr/erddap/tabledap/ArgoFloats.png?longitude%2Clatitude%2Ccycle_number&platform_number=~%22%5E(6902746%7C6902757%7C6902766%7C6902771%7C6902772)%22&longitude%3E=-95&longitude%3C=-45&latitude%3E=10&latitude%3C=45&.draw=markers&.marker=7%7C3&.color=0x000000&.colorBar=%7C%7C%7C0%7C%7C10&.bgColor=0xffccccff\">\n",
    "</div    "
   ]
  },
  {
   "cell_type": "markdown",
   "metadata": {},
   "source": [
    "Upper temperature profiles:\n",
    "http://www.ifremer.fr/erddap/tabledap/ArgoFloats.largePng?temp%2Cpres%2Ctime&platform_number=~%22%5E(6902746%7C6902757%7C6902766%7C6902771%7C6902772)%22&.draw=markers&.marker=7%7C5&.color=0xFFFFFF&.colorBar=%7C%7C%7C%7C%7C&.xRange=16%7C30%7Ctrue&.yRange=250%7C0%7Cfalse&.bgColor=0xffffff\n",
    "\n",
    "1 float all data:\n",
    "http://www.ifremer.fr/erddap/tabledap/ArgoFloats.htmlTable?&platform_number=%226902636%22"
   ]
  },
  {
   "cell_type": "markdown",
   "metadata": {},
   "source": [
    "### Space and/or time selection\n",
    "Active Coriolis Floats since a given date:\n",
    "http://www.ifremer.fr/erddap/tabledap/ArgoFloats.htmlTable?data_center,project_name,pi_name,platform_number&data_center=%22IF%22&time%3E=%222017-03-01T12:00:00Z%22&pres%3C=10&pres%3E=9&distinct()&orderBy(%22project_name%22)\n",
    "\n",
    "1 day of floats:\n",
    "http://www.ifremer.fr/erddap/tabledap/ArgoFloats.htmlTable?time,longitude%2Clatitude,platform_number%2Ccycle_number&time%3E=2017-06-27T00%3A00%3A00Z&time%3C=2017-06-27T23%3A59%3A59Z&pres%3E=25&pres%3C=50&distinct()&orderBy(%22time%22)&.draw=markers&.marker=5%7C5&.color=0x000000&.colorBar=%7C%7C%7C%7C%7C&.bgColor=0xffccccff\n",
    "\n",
    "1 float cycle temperature profile:\n",
    "http://www.ifremer.fr/erddap/tabledap/ArgoFloats.graph?temp%2Cpres%2Cpsal%2Ccycle_number&platform_number=%226902766%22&cycle_number%3E=9&direction=%22A%22&distinct()&orderBy(%22cycle_number%22)&.draw=markers&.marker=3%7C5&.color=0xFFFFFF&.colorBar=Rainbow2%7CD%7C%7C34%7C37%7C&.yRange=0%7C2000%7Cfalse&.bgColor=fff\n",
    "\n",
    "1 float temperature section:\n",
    "http://www.ifremer.fr/erddap/tabledap/ArgoFloats.graph?time%2Cpres%2Ctemp%2Ccycle_number&platform_number=%226902766%22&direction=%22A%22&distinct()&orderBy(%22cycle_number%22)&.draw=markers&.marker=6%7C5&.color=0xFFFFFF&.colorBar=Rainbow2%7CD%7C%7C%7C%7C&.yRange=0%7C2000%7Cfalse&.bgColor=0x7fffffff\n",
    "\n",
    "Deployment position of ALL Argo floats:\n",
    "http://www.ifremer.fr/erddap/tabledap/ArgoFloats.csv?longitude,latitude,time,project_name&cycle_number=1\n",
    "\n",
    "Deployment position of ALL Argo floats after a given date:\n",
    "http://www.ifremer.fr/erddap/tabledap/ArgoFloats.csv?longitude,latitude,time,project_name&cycle_number=1&time>=\"2016-03-14T12:00:00Z\"\n",
    "\n",
    "http://www.ifremer.fr/erddap/tabledap/ArgoFloats.png?longitude,latitude,pres&time%3E=2017-01-01T00:00:00Z&temp%3E=17&temp%3C=19&latitude%3E=20&latitude%3C=50&longitude%3E=-90&longitude%3C=0\n",
    "\n",
    "### More advance usage\n",
    "\n",
    "All argo data with temperature between 17 and 19 degC:\n",
    "http://www.ifremer.fr/erddap/tabledap/ArgoFloats.htmlTable?&temp%3E=17&temp%3C=19\n",
    "\n",
    "List of positions of 1 float data with temperature between 17 and 19 degC:\n",
    "http://www.ifremer.fr/erddap/tabledap/ArgoFloats.htmlTable?longitude%2Clatitude%2Ctime&platform_number=%226902636%22&temp%3E=17&temp%3C=19&orderBy(%22time%22)\n",
    "\n",
    "Figure with positions of 1 float data with temperature between 17 and 19 degC:\n",
    "(simply replace .htmlTable by .graph)\n",
    "http://www.ifremer.fr/erddap/tabledap/ArgoFloats.htmlTable?longitude%2Clatitude%2Ctime&platform_number=%226902636%22&temp%3E=17&temp%3C=19&orderBy(%22time%22)\n",
    "\n",
    "Depth (pressure) of the 17-19degC layer since Jan. 2017:\n",
    "http://www.ifremer.fr/erddap/tabledap/ArgoFloats.largePng?longitude%2Clatitude%2Cpres&pres%3E=300&time%3E=2017-01-01T00%3A00%3A00Z&temp%3E=17&temp%3C=19&latitude%3E=10&latitude%3C=50&longitude%3E=-90&longitude%3C=0&distinct()&.draw=markers&.marker=7%7C3&.color=0x000000&.colorBar=ReverseRainbow%7CD%7C%7C300%7C600%7C&.bgColor=0xffccccff\n",
    "\n",
    "Depth (pressure) of the 17-19degC layer for last winter:\n",
    "http://www.ifremer.fr/erddap/tabledap/ArgoFloats.graph?longitude%2Clatitude%2Cpres&pres%3E=250&temp%3E=17&temp%3C=19&psal%3E=36.4&psal%3C=36.6&latitude%3E=20&latitude%3C=45&longitude%3E=-81&longitude%3C=-40&time%3E=2016-12-01T00%3A00%3A00Z&time%3C=2017-03-31T00%3A00%3A00Z&distinct()&.draw=markers&.marker=7%7C6&.color=0x000000&.colorBar=ReverseRainbow%7CD%7C%7C300%7C600%7C&.bgColor=0xffccccff\n",
    "\n",
    "EDW outcropping area temperature time series:\n",
    "http://www.ifremer.fr/erddap/tabledap/ArgoFloats.graph?time%2Ctemp%2Cpsal&time%3E=2015-09-01T00%3A00%3A00Z&longitude%3E=-60&longitude%3C=-50&latitude%3E=32.5&latitude%3C=37.5&pres%3E=40&pres%3C=60&temp%3E=15&.draw=markers&.marker=5%7C5&.color=0x000000&.colorBar=%7C%7C%7C36.3%7C36.7%7C&.bgColor=0xffccccff"
   ]
  },
  {
   "cell_type": "markdown",
   "metadata": {},
   "source": [
    "***\n",
    "This work is part and was supported by the following projects:\n",
    "<div>\n",
    "<img src=\"https://avatars1.githubusercontent.com/u/58258213?s=460&v=4\" width=\"70\"/>\n",
    "<img src=\"http://www.argo-france.fr/wp-content/uploads/2019/10/Argo-logo_banner-color.png\" width=\"200\"/>\n",
    "<img src=\"https://www.umr-lops.fr/var/storage/images/_aliases/logo_main/medias-ifremer/medias-lops/logos/logo-lops-2/1459683-4-fre-FR/Logo-LOPS-2.png\" width=\"70\"/>\n",
    "</div>"
   ]
  }
 ],
 "metadata": {
  "kernelspec": {
   "display_name": "Python 3",
   "language": "python",
   "name": "python3"
  },
  "language_info": {
   "codemirror_mode": {
    "name": "ipython",
    "version": 3
   },
   "file_extension": ".py",
   "mimetype": "text/x-python",
   "name": "python",
   "nbconvert_exporter": "python",
   "pygments_lexer": "ipython3",
   "version": "3.6.7"
  },
  "widgets": {
   "application/vnd.jupyter.widget-state+json": {
    "state": {},
    "version_major": 2,
    "version_minor": 0
   }
  }
 },
 "nbformat": 4,
 "nbformat_minor": 4
}
